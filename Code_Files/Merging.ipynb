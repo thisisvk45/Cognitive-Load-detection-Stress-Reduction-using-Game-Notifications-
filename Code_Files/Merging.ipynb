{
 "cells": [
  {
   "cell_type": "code",
   "execution_count": 1,
   "id": "733de390",
   "metadata": {},
   "outputs": [
    {
     "name": "stdout",
     "output_type": "stream",
     "text": [
      "Folder: Pre\n",
      "  File: 20241214_201622-cont.csv, Rows: 1527\n",
      "  File: 20241214_203236-cont.csv, Rows: 2129\n",
      "  File: 20241214_205147-cont.csv, Rows: 2762\n",
      "  File: 20241214_220320-cont.csv, Rows: 4030\n",
      "  File: 20241214_222139-cont.csv, Rows: 4644\n",
      "  File: 20241214_224509-cont.csv, Rows: 5409\n",
      "Folder: Post\n",
      "  File: 20241214_202324-cont.csv, Rows: 1777\n",
      "  File: 20241214_204139-cont.csv, Rows: 2443\n",
      "  File: 20241214_210024-raw.csv, Rows: 96274\n",
      "  File: 20241214_215145-cont.csv, Rows: 3642\n",
      "Folder: Treatment\n",
      "  File: 20241214_221342-cont.csv, Rows: 4348\n",
      "  File: 20241214_223308-cont.csv, Rows: 5002\n",
      "  File: 20241214_225648-cont.csv, Rows: 5782\n"
     ]
    }
   ],
   "source": [
    "import os\n",
    "import pandas as pd\n",
    "\n",
    "# Define the folder paths\n",
    "folders = {\n",
    "    \"Pre\": r\"C:\\Users\\Plaksha\\Desktop\\HTI-Finak\\Pre\",\n",
    "    \"Post\": r\"C:\\Users\\Plaksha\\Desktop\\HTI-Finak\\Post\",\n",
    "    \"Treatment\": r\"C:\\Users\\Plaksha\\Desktop\\HTI-Finak\\Treat\"\n",
    "}\n",
    "\n",
    "# Count rows in each file\n",
    "row_counts = {}\n",
    "for folder_name, folder_path in folders.items():\n",
    "    row_counts[folder_name] = {}\n",
    "    for file_name in os.listdir(folder_path):\n",
    "        if file_name.endswith(\".csv\"):  # Adjust if files are in a different format\n",
    "            file_path = os.path.join(folder_path, file_name)\n",
    "            df = pd.read_csv(file_path)\n",
    "            row_counts[folder_name][file_name] = len(df)\n",
    "\n",
    "# Display row counts for each folder\n",
    "for folder, files in row_counts.items():\n",
    "    print(f\"Folder: {folder}\")\n",
    "    for file_name, row_count in files.items():\n",
    "        print(f\"  File: {file_name}, Rows: {row_count}\")\n"
   ]
  },
  {
   "cell_type": "code",
   "execution_count": 2,
   "id": "072978ee",
   "metadata": {},
   "outputs": [
    {
     "name": "stdout",
     "output_type": "stream",
     "text": [
      "Merged file saved for folder 'Pre' at: C:\\Users\\Plaksha\\Desktop\\HTI-Finak\\Pre\\Pre_merged.csv\n",
      "Merged file saved for folder 'Post' at: C:\\Users\\Plaksha\\Desktop\\HTI-Finak\\Post\\Post_merged.csv\n",
      "Merged file saved for folder 'Treatment' at: C:\\Users\\Plaksha\\Desktop\\HTI-Finak\\Treat\\Treatment_merged.csv\n",
      "Folder: Pre, Merged Rows: 20501\n",
      "Folder: Post, Merged Rows: 104136\n",
      "Folder: Treatment, Merged Rows: 15132\n"
     ]
    }
   ],
   "source": [
    "import os\n",
    "import pandas as pd\n",
    "\n",
    "folders = {\n",
    "    \"Pre\": r\"C:\\Users\\Plaksha\\Desktop\\HTI-Finak\\Pre\",\n",
    "    \"Post\": r\"C:\\Users\\Plaksha\\Desktop\\HTI-Finak\\Post\",\n",
    "    \"Treatment\": r\"C:\\Users\\Plaksha\\Desktop\\HTI-Finak\\Treat\"\n",
    "}\n",
    "\n",
    "merged_data = {}\n",
    "\n",
    "for folder_name, folder_path in folders.items():\n",
    "    all_files = []\n",
    "    for file_name in os.listdir(folder_path):\n",
    "        if file_name.endswith(\".csv\"):  # Adjust if files are in a different format\n",
    "            file_path = os.path.join(folder_path, file_name)\n",
    "            df = pd.read_csv(file_path)\n",
    "            all_files.append(df)\n",
    "    \n",
    "    if all_files:\n",
    "        merged_df = pd.concat(all_files, ignore_index=True)\n",
    "        merged_data[folder_name] = merged_df\n",
    "        \n",
    "        output_file_path = os.path.join(folder_path, f\"{folder_name}_merged.csv\")\n",
    "        merged_df.to_csv(output_file_path, index=False)\n",
    "        print(f\"Merged file saved for folder '{folder_name}' at: {output_file_path}\")\n",
    "\n",
    "for folder_name, df in merged_data.items():\n",
    "    print(f\"Folder: {folder_name}, Merged Rows: {len(df)}\")\n"
   ]
  },
  {
   "cell_type": "code",
   "execution_count": 3,
   "id": "af969f1d",
   "metadata": {},
   "outputs": [
    {
     "name": "stdout",
     "output_type": "stream",
     "text": [
      "File: 20241214_201622-cont.csv\n",
      "Columns: ['timestamp', ' running_counter', ' activity_class', ' sleep_class', ' workout_class', ' speed', ' walk_steps', ' run_steps', ' bike_steps', ' walk_distance', ' run_distance', ' calories', ' hr', ' hr_qi', ' rssi']\n",
      "\n",
      "File: 20241214_203236-cont.csv\n",
      "Columns: ['timestamp', ' running_counter', ' activity_class', ' sleep_class', ' workout_class', ' speed', ' walk_steps', ' run_steps', ' bike_steps', ' walk_distance', ' run_distance', ' calories', ' hr', ' hr_qi', ' rssi']\n",
      "\n",
      "File: 20241214_205147-cont.csv\n",
      "Columns: ['timestamp', ' running_counter', ' activity_class', ' sleep_class', ' workout_class', ' speed', ' walk_steps', ' run_steps', ' bike_steps', ' walk_distance', ' run_distance', ' calories', ' hr', ' hr_qi', ' rssi']\n",
      "\n",
      "File: 20241214_220320-cont.csv\n",
      "Columns: ['timestamp', ' running_counter', ' activity_class', ' sleep_class', ' workout_class', ' speed', ' walk_steps', ' run_steps', ' bike_steps', ' walk_distance', ' run_distance', ' calories', ' hr', ' hr_qi', ' rssi']\n",
      "\n",
      "File: 20241214_222139-cont.csv\n",
      "Columns: ['timestamp', ' running_counter', ' activity_class', ' sleep_class', ' workout_class', ' speed', ' walk_steps', ' run_steps', ' bike_steps', ' walk_distance', ' run_distance', ' calories', ' hr', ' hr_qi', ' rssi']\n",
      "\n",
      "File: 20241214_224509-cont.csv\n",
      "Columns: ['timestamp', ' running_counter', ' activity_class', ' sleep_class', ' workout_class', ' speed', ' walk_steps', ' run_steps', ' bike_steps', ' walk_distance', ' run_distance', ' calories', ' hr', ' hr_qi', ' rssi']\n",
      "\n",
      "File: Pre_merged.csv\n",
      "Columns: ['timestamp', ' running_counter', ' activity_class', ' sleep_class', ' workout_class', ' speed', ' walk_steps', ' run_steps', ' bike_steps', ' walk_distance', ' run_distance', ' calories', ' hr', ' hr_qi', ' rssi']\n",
      "\n"
     ]
    }
   ],
   "source": [
    "import os\n",
    "import pandas as pd\n",
    "\n",
    "# Path to the Pre folder\n",
    "pre_folder_path = r\"C:\\Users\\Plaksha\\Desktop\\HTI-Finak\\Pre\"\n",
    "\n",
    "# Iterate through each CSV in the folder and print its column names\n",
    "columns_in_files = {}\n",
    "for file_name in os.listdir(pre_folder_path):\n",
    "    if file_name.endswith(\".csv\"):  # Adjust if files are in a different format\n",
    "        file_path = os.path.join(pre_folder_path, file_name)\n",
    "        df = pd.read_csv(file_path)\n",
    "        columns_in_files[file_name] = list(df.columns)\n",
    "\n",
    "# Print the column names for each CSV\n",
    "for file_name, columns in columns_in_files.items():\n",
    "    print(f\"File: {file_name}\")\n",
    "    print(f\"Columns: {columns}\")\n",
    "    print()\n"
   ]
  },
  {
   "cell_type": "code",
   "execution_count": null,
   "id": "503c92a9",
   "metadata": {},
   "outputs": [],
   "source": [
    "import os\n",
    "import pandas as pd\n",
    "import matplotlib.pyplot as plt\n",
    "\n",
    "pre_folder_path = r\"C:\\Users\\Plaksha\\Desktop\\HTI-Finak\\Pre\"\n",
    "\n",
    "csv_files = [file for file in os.listdir(pre_folder_path) if file.endswith(\".csv\")]\n",
    "\n",
    "fig, axes = plt.subplots(2, 3, figsize=(18, 10))\n",
    "axes = axes.flatten()  \n",
    "\n",
    "for i, file_name in enumerate(csv_files):\n",
    "    file_path = os.path.join(pre_folder_path, file_name)\n",
    "    df = pd.read_csv(file_path)\n",
    "    \n",
    "    df['timestamp'] = pd.to_numeric(df['timestamp'])\n",
    "    df = df.sort_values(by='timestamp')  # Sort data by timestamp for a clean line\n",
    "\n",
    "    # Plot a single line for HR variation over time\n",
    "    axes[i].plot(df['timestamp'], df[' hr'], label=\"Heart Rate\", color='blue')\n",
    "    axes[i].set_title(f\"HR Variation - {file_name}\", fontsize=12)\n",
    "    axes[i].set_xlabel(\"Timestamp\", fontsize=10)\n",
    "    axes[i].set_ylabel(\"Heart Rate (HR)\", fontsize=10)\n",
    "    axes[i].set_ylim(58, 120)  # Set Y-axis range\n",
    "    axes[i].set_yticks(range(58, 121, 2))  # Y-axis ticks\n",
    "    axes[i].grid(True, linestyle='--', linewidth=0.5)\n",
    "    axes[i].legend(fontsize=9)\n",
    "\n",
    "# Adjust layout for better spacing and show the plot\n",
    "plt.tight_layout()\n",
    "plt.show()\n"
   ]
  }
 ],
 "metadata": {
  "kernelspec": {
   "display_name": "Python 3 (ipykernel)",
   "language": "python",
   "name": "python3"
  },
  "language_info": {
   "codemirror_mode": {
    "name": "ipython",
    "version": 3
   },
   "file_extension": ".py",
   "mimetype": "text/x-python",
   "name": "python",
   "nbconvert_exporter": "python",
   "pygments_lexer": "ipython3",
   "version": "3.11.4"
  }
 },
 "nbformat": 4,
 "nbformat_minor": 5
}
